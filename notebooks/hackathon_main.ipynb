{
  "nbformat": 4,
  "nbformat_minor": 0,
  "metadata": {
    "colab": {
      "provenance": [],
      "authorship_tag": "ABX9TyMLQn4HIyLcGYHCgXW85hpo",
      "include_colab_link": true
    },
    "kernelspec": {
      "name": "python3",
      "display_name": "Python 3"
    },
    "language_info": {
      "name": "python"
    }
  },
  "cells": [
    {
      "cell_type": "markdown",
      "metadata": {
        "id": "view-in-github",
        "colab_type": "text"
      },
      "source": [
        "<a href=\"https://colab.research.google.com/github/DataScience-Challenge-Group1/Data-Science-Challenge-Hackathon/blob/main/notebooks/hackathon_main.ipynb\" target=\"_parent\"><img src=\"https://colab.research.google.com/assets/colab-badge.svg\" alt=\"Open In Colab\"/></a>"
      ]
    },
    {
      "cell_type": "markdown",
      "source": [
        "# **Data Science Challenge 2025  |  Group 1**\n",
        "\n",
        "## Team: DataScience-Challenge-Group1\n",
        "## Repository: Data-Science-Challenge-Hackathon\n",
        "## Date: 22 October 2025\n",
        "## Module: 7PAM2015 – Research Methods\n",
        "## Instructor: Dr Pedro Carrilho"
      ],
      "metadata": {
        "id": "0A-37DZCDtI-"
      }
    },
    {
      "cell_type": "markdown",
      "source": [
        "# **👥 Team Members**\n",
        "## 1. Rabia Akhtar\n",
        "## 2. ...\n",
        "## 3. ...\n",
        "## 4. ...\n",
        "\n",
        "### GitHub repo: https://github.com/DataScience-Challenge-Group1/Data-Science-Challenge-Hackathon\n"
      ],
      "metadata": {
        "id": "5CDgMTV-E3OR"
      }
    }
  ]
}