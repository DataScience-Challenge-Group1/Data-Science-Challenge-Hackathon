{
  "nbformat": 4,
  "nbformat_minor": 0,
  "metadata": {
    "colab": {
      "provenance": [],
      "authorship_tag": "ABX9TyOuTBXNlSvoc4EL8BlqQv5Y",
      "include_colab_link": true
    },
    "kernelspec": {
      "name": "python3",
      "display_name": "Python 3"
    },
    "language_info": {
      "name": "python"
    }
  },
  "cells": [
    {
      "cell_type": "markdown",
      "metadata": {
        "id": "view-in-github",
        "colab_type": "text"
      },
      "source": [
        "<a href=\"https://colab.research.google.com/github/DataScience-Challenge-Group1/Data-Science-Challenge-Hackathon/blob/main/notebooks/hackathon_main.ipynb\" target=\"_parent\"><img src=\"https://colab.research.google.com/assets/colab-badge.svg\" alt=\"Open In Colab\"/></a>"
      ]
    },
    {
      "cell_type": "markdown",
      "source": [
        "# **Data Science Challenge 2025  |  Group 1**\n",
        "\n",
        "## Team: DataScience-Challenge-Group1\n",
        "## Repository: Data-Science-Challenge-Hackathon\n",
        "## Date: 22 October 2025\n",
        "## Module: 7PAM2015 – Research Methods\n",
        "## Instructor: Dr Pedro Carrilho"
      ],
      "metadata": {
        "id": "0A-37DZCDtI-"
      }
    },
    {
      "cell_type": "markdown",
      "source": [
        "# **👥 Team Members**\n",
        "## 1. Rabia Akhtar\n",
        "## 2. ...\n",
        "## 3. ...\n",
        "## 4. ...\n",
        "\n",
        "### GitHub repo: https://github.com/DataScience-Challenge-Group1/Data-Science-Challenge-Hackathon\n"
      ],
      "metadata": {
        "id": "5CDgMTV-E3OR"
      }
    },
    {
      "cell_type": "markdown",
      "source": [
        "# **1.  Project Overview**\n",
        "This notebook documents the full workflow for our Data Science Challenge hackathon:\n",
        "- Perform data exploration (EDA)\n",
        "- Pre-process features\n",
        "- Build and tune multiple models\n",
        "- Evaluate performance with relevant metrics\n",
        "- Apply Explainable AI (XAI) techniques\n",
        "- Submit top-5 model results\n"
      ],
      "metadata": {
        "id": "HmTV8wBKGXce"
      }
    },
    {
      "cell_type": "markdown",
      "source": [
        "# **2. Setup and Imports**"
      ],
      "metadata": {
        "id": "1j2QPTY3G_9S"
      }
    },
    {
      "cell_type": "markdown",
      "source": [
        "# **3. Data Loading**"
      ],
      "metadata": {
        "id": "ldjysJsLHFB3"
      }
    },
    {
      "cell_type": "markdown",
      "source": [
        "# **4. Exploratory Data Analysis (EDA)**"
      ],
      "metadata": {
        "id": "ZpRmPnlbHI21"
      }
    },
    {
      "cell_type": "markdown",
      "source": [
        "# **5. Data Pre-processing**"
      ],
      "metadata": {
        "id": "gK6Gza6hHMyq"
      }
    },
    {
      "cell_type": "markdown",
      "source": [
        "# **6. Model Building**"
      ],
      "metadata": {
        "id": "4Ev7EEK5HTru"
      }
    },
    {
      "cell_type": "markdown",
      "source": [
        "# **7. Hyper-parameter Tuning**"
      ],
      "metadata": {
        "id": "hSTwrmRJHXMV"
      }
    },
    {
      "cell_type": "markdown",
      "source": [
        "# **8. Performance Analysis**"
      ],
      "metadata": {
        "id": "EjYkdeJ8JRMS"
      }
    },
    {
      "cell_type": "markdown",
      "source": [
        "# **9. Explainable AI (XAI)**"
      ],
      "metadata": {
        "id": "rZeAJjlvJdI3"
      }
    }
  ]
}